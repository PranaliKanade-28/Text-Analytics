{
  "nbformat": 4,
  "nbformat_minor": 0,
  "metadata": {
    "colab": {
      "name": "Pranali - A4 - Multiclass Classification.ipynb",
      "provenance": [],
      "collapsed_sections": []
    },
    "kernelspec": {
      "name": "python3",
      "display_name": "Python 3"
    }
  },
  "cells": [
    {
      "cell_type": "code",
      "metadata": {
        "id": "MnIiy01DRmnT",
        "outputId": "e4977f4c-7ae6-4bc7-b6f6-cfba0cd707fe",
        "colab": {
          "base_uri": "https://localhost:8080/",
          "height": 134
        }
      },
      "source": [
        "import os\n",
        "import pandas as pd\n",
        "import numpy as np\n",
        "import re\n",
        "import nltk\n",
        "import matplotlib.pyplot as plt\n",
        "import seaborn as sns\n",
        "import time\n",
        "from sklearn.metrics import accuracy_score, precision_score, recall_score\n",
        "from sklearn.metrics import confusion_matrix, classification_report\n",
        "%matplotlib inline\n",
        "from nltk.tokenize import regexp_tokenize\n",
        "from nltk.corpus import stopwords\n",
        "from nltk.stem import WordNetLemmatizer\n",
        "from nltk.stem.wordnet import WordNetLemmatizer\n",
        "from sklearn.model_selection import train_test_split\n",
        "from sklearn.preprocessing import LabelEncoder\n",
        "from sklearn.feature_extraction.text import TfidfVectorizer\n",
        "from sklearn.naive_bayes import MultinomialNB\n",
        "from sklearn.ensemble import RandomForestClassifier\n",
        "from sklearn.neural_network import MLPClassifier\n",
        "nltk.download('punkt')\n",
        "nltk.download('wordnet')\n",
        "nltk.download('stopwords')"
      ],
      "execution_count": 2,
      "outputs": [
        {
          "output_type": "stream",
          "text": [
            "[nltk_data] Downloading package punkt to /root/nltk_data...\n",
            "[nltk_data]   Unzipping tokenizers/punkt.zip.\n",
            "[nltk_data] Downloading package wordnet to /root/nltk_data...\n",
            "[nltk_data]   Unzipping corpora/wordnet.zip.\n",
            "[nltk_data] Downloading package stopwords to /root/nltk_data...\n",
            "[nltk_data]   Unzipping corpora/stopwords.zip.\n"
          ],
          "name": "stdout"
        },
        {
          "output_type": "execute_result",
          "data": {
            "text/plain": [
              "True"
            ]
          },
          "metadata": {
            "tags": []
          },
          "execution_count": 2
        }
      ]
    },
    {
      "cell_type": "code",
      "metadata": {
        "id": "MiuG3aWCVWx0",
        "outputId": "564d9ba1-752b-4755-c285-18a2b43cc2d8",
        "colab": {
          "base_uri": "https://localhost:8080/",
          "height": 136
        }
      },
      "source": [
        "df = pd.read_csv('Customer_Service_Questions_Multiclass.csv')\n",
        "df.head(3)"
      ],
      "execution_count": 4,
      "outputs": [
        {
          "output_type": "execute_result",
          "data": {
            "text/html": [
              "<div>\n",
              "<style scoped>\n",
              "    .dataframe tbody tr th:only-of-type {\n",
              "        vertical-align: middle;\n",
              "    }\n",
              "\n",
              "    .dataframe tbody tr th {\n",
              "        vertical-align: top;\n",
              "    }\n",
              "\n",
              "    .dataframe thead th {\n",
              "        text-align: right;\n",
              "    }\n",
              "</style>\n",
              "<table border=\"1\" class=\"dataframe\">\n",
              "  <thead>\n",
              "    <tr style=\"text-align: right;\">\n",
              "      <th></th>\n",
              "      <th>question</th>\n",
              "      <th>topic</th>\n",
              "    </tr>\n",
              "  </thead>\n",
              "  <tbody>\n",
              "    <tr>\n",
              "      <th>0</th>\n",
              "      <td>Hi! If I sign up for your email list, can I se...</td>\n",
              "      <td>Sales/Promotions</td>\n",
              "    </tr>\n",
              "    <tr>\n",
              "      <th>1</th>\n",
              "      <td>I'm going to be out of the country for about a...</td>\n",
              "      <td>Shipping</td>\n",
              "    </tr>\n",
              "    <tr>\n",
              "      <th>2</th>\n",
              "      <td>I was wondering if you'd be able to overnight ...</td>\n",
              "      <td>Shipping</td>\n",
              "    </tr>\n",
              "  </tbody>\n",
              "</table>\n",
              "</div>"
            ],
            "text/plain": [
              "                                            question             topic\n",
              "0  Hi! If I sign up for your email list, can I se...  Sales/Promotions\n",
              "1  I'm going to be out of the country for about a...          Shipping\n",
              "2  I was wondering if you'd be able to overnight ...          Shipping"
            ]
          },
          "metadata": {
            "tags": []
          },
          "execution_count": 4
        }
      ]
    },
    {
      "cell_type": "code",
      "metadata": {
        "id": "f-AyvvhRVa2-",
        "outputId": "a03ddf9a-be2c-49df-8b2d-c38159fb542d",
        "colab": {
          "base_uri": "https://localhost:8080/",
          "height": 195
        }
      },
      "source": [
        "# cleaning and removing stop words\n",
        "lemmatizer = WordNetLemmatizer()\n",
        "clean_text = []\n",
        "for text in df['question']:\n",
        "    words = regexp_tokenize(text.lower(), r'[A-Za-z]+')\n",
        "    words = [w for w in words if len(w)>1 and w not in stopwords.words('english')]\n",
        "    words = [lemmatizer.lemmatize(w) for w in words]\n",
        "    clean_text.append(' '.join(words))\n",
        "\n",
        "len(clean_text)\n",
        "df['clean_text'] = clean_text\n",
        "df.head()"
      ],
      "execution_count": 5,
      "outputs": [
        {
          "output_type": "execute_result",
          "data": {
            "text/html": [
              "<div>\n",
              "<style scoped>\n",
              "    .dataframe tbody tr th:only-of-type {\n",
              "        vertical-align: middle;\n",
              "    }\n",
              "\n",
              "    .dataframe tbody tr th {\n",
              "        vertical-align: top;\n",
              "    }\n",
              "\n",
              "    .dataframe thead th {\n",
              "        text-align: right;\n",
              "    }\n",
              "</style>\n",
              "<table border=\"1\" class=\"dataframe\">\n",
              "  <thead>\n",
              "    <tr style=\"text-align: right;\">\n",
              "      <th></th>\n",
              "      <th>question</th>\n",
              "      <th>topic</th>\n",
              "      <th>clean_text</th>\n",
              "    </tr>\n",
              "  </thead>\n",
              "  <tbody>\n",
              "    <tr>\n",
              "      <th>0</th>\n",
              "      <td>Hi! If I sign up for your email list, can I se...</td>\n",
              "      <td>Sales/Promotions</td>\n",
              "      <td>hi sign email list select get email exclusivel...</td>\n",
              "    </tr>\n",
              "    <tr>\n",
              "      <th>1</th>\n",
              "      <td>I'm going to be out of the country for about a...</td>\n",
              "      <td>Shipping</td>\n",
              "      <td>going country week travel going getting animal...</td>\n",
              "    </tr>\n",
              "    <tr>\n",
              "      <th>2</th>\n",
              "      <td>I was wondering if you'd be able to overnight ...</td>\n",
              "      <td>Shipping</td>\n",
              "      <td>wondering able overnight jacket item trenton nj</td>\n",
              "    </tr>\n",
              "    <tr>\n",
              "      <th>3</th>\n",
              "      <td>The Swingline electronic stapler (472555) look...</td>\n",
              "      <td>Shipping</td>\n",
              "      <td>swingline electronic stapler look really great...</td>\n",
              "    </tr>\n",
              "    <tr>\n",
              "      <th>4</th>\n",
              "      <td>I think this cosmetic bag would work great for...</td>\n",
              "      <td>Shipping</td>\n",
              "      <td>think cosmetic bag would work great however kn...</td>\n",
              "    </tr>\n",
              "  </tbody>\n",
              "</table>\n",
              "</div>"
            ],
            "text/plain": [
              "                                            question  ...                                         clean_text\n",
              "0  Hi! If I sign up for your email list, can I se...  ...  hi sign email list select get email exclusivel...\n",
              "1  I'm going to be out of the country for about a...  ...  going country week travel going getting animal...\n",
              "2  I was wondering if you'd be able to overnight ...  ...    wondering able overnight jacket item trenton nj\n",
              "3  The Swingline electronic stapler (472555) look...  ...  swingline electronic stapler look really great...\n",
              "4  I think this cosmetic bag would work great for...  ...  think cosmetic bag would work great however kn...\n",
              "\n",
              "[5 rows x 3 columns]"
            ]
          },
          "metadata": {
            "tags": []
          },
          "execution_count": 5
        }
      ]
    },
    {
      "cell_type": "code",
      "metadata": {
        "id": "fE02SpzmYDHl",
        "outputId": "8ec92bd6-4c11-41c0-fb29-81ca29dff411",
        "colab": {
          "base_uri": "https://localhost:8080/",
          "height": 168
        }
      },
      "source": [
        "df.groupby('topic').clean_text.count()"
      ],
      "execution_count": 6,
      "outputs": [
        {
          "output_type": "execute_result",
          "data": {
            "text/plain": [
              "topic\n",
              "Omnichannel               450\n",
              "Product Availability      833\n",
              "Product Comparison        806\n",
              "Product Specifications    839\n",
              "Returns & Refunds         768\n",
              "Sales/Promotions          505\n",
              "Shipping                  799\n",
              "Name: clean_text, dtype: int64"
            ]
          },
          "metadata": {
            "tags": []
          },
          "execution_count": 6
        }
      ]
    },
    {
      "cell_type": "code",
      "metadata": {
        "id": "00inKM7ocvVZ"
      },
      "source": [
        "# Split data into train and test and create TF-IDF vectorizer\n",
        "\n",
        "X_train, X_test, y_train, y_test = train_test_split(df['clean_text'], df['topic'], test_size=0.2, random_state=42)\n",
        "encoder = LabelEncoder()\n",
        "y_train = encoder.fit_transform(y_train)\n",
        "y_test = encoder.fit_transform(y_test)"
      ],
      "execution_count": 7,
      "outputs": []
    },
    {
      "cell_type": "markdown",
      "metadata": {
        "id": "hNL6KKvaukQK"
      },
      "source": [
        "The text needs to be transformed to vectors so as the algorithms will be able to make predictions. We will use the Term Frequency – Inverse Document Frequency (TFIDF) weight to evaluate how important a word is to a document in a collection of documents"
      ]
    },
    {
      "cell_type": "code",
      "metadata": {
        "id": "QUMLMOWudU2H"
      },
      "source": [
        "tfidf_vect = TfidfVectorizer(analyzer='word', token_pattern=r'\\w{1,}', max_features=5000)\n",
        "tfidf_vect.fit(df['clean_text'])\n",
        "xtrain_tfidf =  tfidf_vect.transform(X_train)\n",
        "xtest_tfidf =  tfidf_vect.transform(X_test)"
      ],
      "execution_count": 8,
      "outputs": []
    },
    {
      "cell_type": "code",
      "metadata": {
        "id": "lzt5B-BHdXqK"
      },
      "source": [
        "df['topic_id'] = df['topic'].factorize()[0]\n",
        "topic_id_df = df[['topic', 'topic_id']].drop_duplicates().sort_values('topic_id')\n",
        "topic_to_id = dict(topic_id_df.values)\n",
        "id_to_topic = dict(topic_id_df[['topic_id', 'topic']].values)"
      ],
      "execution_count": 9,
      "outputs": []
    },
    {
      "cell_type": "markdown",
      "metadata": {
        "id": "hqIRdc-jvrBt"
      },
      "source": [
        "Implementation of Naive Bayes, Random Forests and Neural Network Clasifiers."
      ]
    },
    {
      "cell_type": "code",
      "metadata": {
        "id": "CosbT-DldaPO",
        "outputId": "a1f06707-7423-47af-a6d7-14dfbf2968a9",
        "colab": {
          "base_uri": "https://localhost:8080/",
          "height": 34
        }
      },
      "source": [
        "# Naive Bayes Classifier with default parameters\n",
        "\n",
        "start_time = time.time() \n",
        "nbModel = MultinomialNB()\n",
        "nbModel.fit(xtrain_tfidf, y_train)  \n",
        "nb_predict_y = nbModel.predict(xtest_tfidf)\n",
        "nb_accuracy = accuracy_score(y_test, nb_predict_y)\n",
        "print('Elapsed clock time: ', (time.time() - start_time)/3600, ' seconds')"
      ],
      "execution_count": 10,
      "outputs": [
        {
          "output_type": "stream",
          "text": [
            "Elapsed clock time:  2.018544409010145e-06  seconds\n"
          ],
          "name": "stdout"
        }
      ]
    },
    {
      "cell_type": "code",
      "metadata": {
        "id": "A86jf0jFddOt",
        "outputId": "67abf916-8c9a-48ea-9e50-b1281a7a2311",
        "colab": {
          "base_uri": "https://localhost:8080/",
          "height": 34
        }
      },
      "source": [
        "# Random Forest (Bagging Model) Classifier\n",
        "\n",
        "start_time = time.time() \n",
        "rfModel = RandomForestClassifier(n_estimators=100, max_depth=None, min_samples_split=2)\n",
        "rfModel.fit(xtrain_tfidf, y_train)  \n",
        "rf_predict_y = rfModel.predict(xtest_tfidf)\n",
        "rf_accuracy = accuracy_score(y_test, rf_predict_y)\n",
        "print('Elapsed clock time: ', (time.time() - start_time)/3600, ' seconds')"
      ],
      "execution_count": 11,
      "outputs": [
        {
          "output_type": "stream",
          "text": [
            "Elapsed clock time:  0.000726381672753228  seconds\n"
          ],
          "name": "stdout"
        }
      ]
    },
    {
      "cell_type": "markdown",
      "metadata": {
        "id": "M9EPhszHqheN"
      },
      "source": [
        "Third classfier model used is Neural Network Classifier. A neural network includes weights, a score function and a loss function. A neural network learns in a feedback loop, it adjusts its weights based on the results from the score function and the loss function. "
      ]
    },
    {
      "cell_type": "code",
      "metadata": {
        "id": "RaR_VLXKdgkf",
        "outputId": "181403b7-7a3a-4268-eca5-700a999d65fa",
        "colab": {
          "base_uri": "https://localhost:8080/",
          "height": 34
        }
      },
      "source": [
        "# Neural Network Classifier\n",
        "\n",
        "start_time = time.time() \n",
        "nnModel = MLPClassifier(alpha = 1, hidden_layer_sizes=(120,), learning_rate='adaptive')\n",
        "nnModel.fit(xtrain_tfidf, y_train)  \n",
        "nn_predict_y = nnModel.predict(xtest_tfidf)\n",
        "nn_accuracy = accuracy_score(y_test, nn_predict_y)\n",
        "print('Elapsed clock time: ', (time.time() - start_time)/3600, ' seconds')"
      ],
      "execution_count": 12,
      "outputs": [
        {
          "output_type": "stream",
          "text": [
            "Elapsed clock time:  0.005792956815825569  seconds\n"
          ],
          "name": "stdout"
        }
      ]
    },
    {
      "cell_type": "markdown",
      "metadata": {
        "id": "s268b_ar0eSs"
      },
      "source": [
        "Naive Bayes Classifier is fasted and Neural network is slowest amoung these three classifier."
      ]
    },
    {
      "cell_type": "code",
      "metadata": {
        "id": "5q6lg1Avdj06",
        "outputId": "a5d8e161-01d1-497b-eafc-75dd900df17d",
        "colab": {
          "base_uri": "https://localhost:8080/",
          "height": 67
        }
      },
      "source": [
        "print('Naive Bayes: {:.3f}'.format(nb_accuracy))\n",
        "print('Random Forests: {:.3f}'.format(rf_accuracy))\n",
        "print('Neural Network: {:.3f}'.format(nn_accuracy))"
      ],
      "execution_count": 13,
      "outputs": [
        {
          "output_type": "stream",
          "text": [
            "Naive Bayes: 0.942\n",
            "Random Forests: 0.972\n",
            "Neural Network: 0.955\n"
          ],
          "name": "stdout"
        }
      ]
    },
    {
      "cell_type": "markdown",
      "metadata": {
        "id": "-ifYzAlB02aa"
      },
      "source": [
        "Random Forest has maximum accuracy of 97.2% and Naive Bayes has least 94.2%. Neural network has accuracy of 95.5%.\n",
        "\n",
        "*   List item\n",
        "*   List item\n",
        "\n"
      ]
    },
    {
      "cell_type": "code",
      "metadata": {
        "id": "rvQDr_YEdn68",
        "outputId": "d0a61a26-340a-4550-c847-eddbe2d74c98",
        "colab": {
          "base_uri": "https://localhost:8080/",
          "height": 354
        }
      },
      "source": [
        "nb = confusion_matrix(y_test, nbModel.predict(xtest_tfidf))\n",
        "rf = confusion_matrix(y_test, rfModel.predict(xtest_tfidf))\n",
        "nn = confusion_matrix(y_test, nnModel.predict(xtest_tfidf))\n",
        "\n",
        "plt.figure(figsize=(30,7))\n",
        "plt.subplot(131)\n",
        "sns.heatmap(nb, annot=True, fmt='d', cmap=\"Blues\",\n",
        "                xticklabels=topic_id_df[['topic']].values, \n",
        "                yticklabels=topic_id_df[['topic']].values)\n",
        "plt.title('Naive Bayes - Confusion Matrix')\n",
        "\n",
        "plt.subplot(132)\n",
        "sns.heatmap(rf, annot=True, fmt='d', cmap=\"Blues\",\n",
        "                xticklabels=topic_id_df[['topic']].values, \n",
        "                yticklabels=topic_id_df[['topic']].values)\n",
        "plt.title('Random Forests - Confusion Matrix')\n",
        "\n",
        "plt.subplot(133)\n",
        "sns.heatmap(nn, annot=True, fmt='d', cmap=\"Blues\",\n",
        "                xticklabels=topic_id_df[['topic']].values, \n",
        "                yticklabels=topic_id_df[['topic']].values)\n",
        "plt.title('Neural Network - Confusion Matrix')\n",
        "\n",
        "plt.show()"
      ],
      "execution_count": 17,
      "outputs": [
        {
          "output_type": "display_data",
          "data": {
            "image/png": "[encoded data removed]",
            "text/plain": [
              "<Figure size 2160x504 with 6 Axes>"
            ]
          },
          "metadata": {
            "tags": [],
            "needs_background": "light"
          }
        }
      ]
    },
    {
      "cell_type": "markdown",
      "metadata": {
        "id": "zUTMQRQ02MMp"
      },
      "source": [
        "A confusion matrix is a table that is used to describe the performance of a classification model (or \"classifier\") on a set of test data for which the true values are known.\n",
        "\n",
        "**Naive Bayes** predicted Sales/Promotions 86 times correctly however made 3 predictions as Omnichannel and 3 as Returns & Refunds.\n",
        "\n",
        "**Random Forest** made 90 predictions of Sales/Promotions accurately and 1 of Product Specification and Omnichannel each.\n",
        "\n",
        "**Neural Network** predicts 89 Sales/Promotions accurately and 1 of Shipping, Omnichannel and Returns & Refunds each. "
      ]
    },
    {
      "cell_type": "code",
      "metadata": {
        "id": "MtkEV60LdtFg",
        "outputId": "8e152723-8a95-487e-eb1c-e2da2f461f2f",
        "colab": {
          "base_uri": "https://localhost:8080/",
          "height": 806
        }
      },
      "source": [
        "print('Naive Bayes classifier:')\n",
        "print(classification_report(y_test, nbModel.predict(xtest_tfidf)))\n",
        "print('***************************************************************************')\n",
        "print('Random Forests classifier')\n",
        "print(classification_report(y_test, rfModel.predict(xtest_tfidf)))\n",
        "print('***************************************************************************')\n",
        "print('Neural Network classifier')\n",
        "print(classification_report(y_test, nnModel.predict(xtest_tfidf)))"
      ],
      "execution_count": 18,
      "outputs": [
        {
          "output_type": "stream",
          "text": [
            "Naive Bayes classifier:\n",
            "              precision    recall  f1-score   support\n",
            "\n",
            "           0       1.00      0.93      0.97        92\n",
            "           1       0.89      0.94      0.91       172\n",
            "           2       0.92      0.89      0.90       155\n",
            "           3       0.93      0.88      0.90       161\n",
            "           4       0.95      1.00      0.97       170\n",
            "           5       0.99      0.96      0.97        97\n",
            "           6       0.97      0.99      0.98       153\n",
            "\n",
            "    accuracy                           0.94      1000\n",
            "   macro avg       0.95      0.94      0.95      1000\n",
            "weighted avg       0.94      0.94      0.94      1000\n",
            "\n",
            "***************************************************************************\n",
            "Random Forests classifier\n",
            "              precision    recall  f1-score   support\n",
            "\n",
            "           0       0.99      0.98      0.98        92\n",
            "           1       0.93      0.96      0.95       172\n",
            "           2       0.97      0.99      0.98       155\n",
            "           3       0.96      0.94      0.95       161\n",
            "           4       0.99      1.00      0.99       170\n",
            "           5       1.00      0.93      0.96        97\n",
            "           6       0.99      1.00      0.99       153\n",
            "\n",
            "    accuracy                           0.97      1000\n",
            "   macro avg       0.98      0.97      0.97      1000\n",
            "weighted avg       0.97      0.97      0.97      1000\n",
            "\n",
            "***************************************************************************\n",
            "Neural Network classifier\n",
            "              precision    recall  f1-score   support\n",
            "\n",
            "           0       1.00      0.97      0.98        92\n",
            "           1       0.92      0.95      0.93       172\n",
            "           2       0.94      0.94      0.94       155\n",
            "           3       0.90      0.92      0.91       161\n",
            "           4       0.99      0.99      0.99       170\n",
            "           5       0.99      0.91      0.95        97\n",
            "           6       0.99      0.99      0.99       153\n",
            "\n",
            "    accuracy                           0.95      1000\n",
            "   macro avg       0.96      0.95      0.96      1000\n",
            "weighted avg       0.96      0.95      0.96      1000\n",
            "\n"
          ],
          "name": "stdout"
        }
      ]
    },
    {
      "cell_type": "markdown",
      "metadata": {
        "id": "R7nCy5RCi5A1"
      },
      "source": [
        "The classification report shows a representation of the main classification metrics on a per-class basis. This gives a deeper intuition of the classifier behavior over global accuracy which can mask functional weaknesses in one class of a multiclass problem.\n",
        "\n",
        "**Precision** is a measure of a classifier’s exactness. For each class, it is defined as the ratio of true positives to the sum of true and false positives. \n",
        "\n",
        "**Recall** is a measure of the classifier’s completeness; the ability of a classifier to correctly find all positive instances. \n",
        "\n",
        "The **F1 score** is a weighted harmonic mean of precision and recall such that the best score is 1.0 and the worst is 0.0. \n",
        "\n",
        "**Support** is the number of actual occurrences of the class in the specified dataset. "
      ]
    },
    {
      "cell_type": "code",
      "metadata": {
        "id": "-yXkd6w2fB7Y",
        "outputId": "a44d5ad3-430b-485c-a2f3-3a265ec70e4e",
        "colab": {
          "base_uri": "https://localhost:8080/",
          "height": 67
        }
      },
      "source": [
        "# Sample Prediction example\n",
        "\n",
        "new_text = [\"I want to buy either the Ellison recliner 536342 or the Dalton recliner 174474 but wanted to ask you which takes up less space when fully reclined? What kind of materials are both made of?\"]\n",
        "text_features = tfidf_vect.transform(new_text)\n",
        "nbPredict = nbModel.predict(text_features)\n",
        "rfPredict = rfModel.predict(text_features)\n",
        "nnPredict = nnModel.predict(text_features)\n",
        "print('Naive Bayes Prediction: ', id_to_topic[rfPredict[0]])\n",
        "print('Random Forest Prediction: ', id_to_topic[rfPredict[0]])\n",
        "print('Neural Network Prediction: ', id_to_topic[nnPredict[0]])"
      ],
      "execution_count": 29,
      "outputs": [
        {
          "output_type": "stream",
          "text": [
            "Naive Bayes Prediction:  Product Availability\n",
            "Random Forest Prediction:  Product Availability\n",
            "Neural Network Prediction:  Product Availability\n"
          ],
          "name": "stdout"
        }
      ]
    },
    {
      "cell_type": "code",
      "metadata": {
        "id": "ZO050mmAfEf1"
      },
      "source": [
        ""
      ],
      "execution_count": 23,
      "outputs": []
    }
  ]
}